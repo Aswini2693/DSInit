{
 "cells": [
  {
   "cell_type": "markdown",
   "id": "e71774e7",
   "metadata": {},
   "source": [
    "# Data Science Tools and Eco system"
   ]
  },
  {
   "cell_type": "markdown",
   "id": "44bc916a",
   "metadata": {},
   "source": [
    "In this notebook, Data Science Tools and Ecosystem are summarized."
   ]
  },
  {
   "cell_type": "markdown",
   "id": "fab96264",
   "metadata": {},
   "source": [
    "Some of the popular languages that Data Scientists use are:\n",
    "        <ol>\n",
    "               <li> python </li>\n",
    "               <li> R </li>\n",
    "               <li> SQL </li>\n",
    "    </ol>"
   ]
  },
  {
   "cell_type": "markdown",
   "id": "2aad98d9",
   "metadata": {},
   "source": [
    "Some of the popular libraries that Data Scientists use are:\n",
    "    <ol>\n",
    "           <li> Pandas </li>\n",
    "           <li> Numpy  </li>\n",
    "           <li> Scipy  </li>\n",
    "    </ol>"
   ]
  },
  {
   "cell_type": "markdown",
   "id": "5aae2827",
   "metadata": {},
   "source": [
    "<table>\n",
    "    <tr>\n",
    "        <th> Data science tools </th>\n",
    "     </tr>\n",
    "    <tr> <td> R Studio </td> </tr>\n",
    "    <tr> <td> Jupyter </td> </tr>\n",
    "    <tr> <td> Tableau </td> </tr>\n",
    "    \n",
    "</table>"
   ]
  },
  {
   "cell_type": "markdown",
   "id": "4b0dcfc2",
   "metadata": {},
   "source": [
    "### Below are a few examples of evaluating arithmetic expressions in Python"
   ]
  },
  {
   "cell_type": "code",
   "execution_count": 9,
   "id": "39e664d9",
   "metadata": {},
   "outputs": [
    {
     "data": {
      "text/plain": [
       "17"
      ]
     },
     "execution_count": 9,
     "metadata": {},
     "output_type": "execute_result"
    }
   ],
   "source": [
    " # This a simple arithmetic expression to mutiply then add integers\n",
    "(3*4)+5"
   ]
  },
  {
   "cell_type": "code",
   "execution_count": 10,
   "id": "c6784206",
   "metadata": {},
   "outputs": [
    {
     "data": {
      "text/plain": [
       "3.3333333333333335"
      ]
     },
     "execution_count": 10,
     "metadata": {},
     "output_type": "execute_result"
    }
   ],
   "source": [
    "# This will convert 200 minutes to hours by diving by 60\n",
    "200/60"
   ]
  },
  {
   "cell_type": "markdown",
   "id": "a9c90bec",
   "metadata": {},
   "source": [
    "**Objectives:**\n",
    "<ul>\n",
    "    <li>List popular languages for Data Science</li>\n",
    "    <li>List popular Libraries for Data Science</li>\n",
    "    <li>List popular Tools for Data Science</li>\n",
    "</ul>"
   ]
  },
  {
   "cell_type": "markdown",
   "id": "3c8a3e89",
   "metadata": {},
   "source": [
    "## Author\n",
    "Aswini N"
   ]
  },
  {
   "cell_type": "markdown",
   "id": "4a7d839c",
   "metadata": {},
   "source": []
  }
 ],
 "metadata": {
  "kernelspec": {
   "display_name": "Python 3 (ipykernel)",
   "language": "python",
   "name": "python3"
  },
  "language_info": {
   "codemirror_mode": {
    "name": "ipython",
    "version": 3
   },
   "file_extension": ".py",
   "mimetype": "text/x-python",
   "name": "python",
   "nbconvert_exporter": "python",
   "pygments_lexer": "ipython3",
   "version": "3.11.5"
  }
 },
 "nbformat": 4,
 "nbformat_minor": 5
}
